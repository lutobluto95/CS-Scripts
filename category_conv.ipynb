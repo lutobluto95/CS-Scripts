{
 "cells": [
  {
   "cell_type": "markdown",
   "metadata": {},
   "source": [
    "### Description\n",
    "\n",
    "Meant to be used in JupyterLab, Jupyter Notebook, or VS Code.\n",
    "\n",
    "This script is for getting **category conversations, SOV, Brand Mentions and Conversations, Word Cloud and Brand Attributes.** <br>\n",
    "This script can also be used to get groupwise and monthwise count.\n",
    "\n",
    "Modules required: **CSUtilities.py**, **queries.py** <br>\n",
    "These modules need to be in same folder as **this** script. Alternatively, they can be included in path (see below).\n",
    "\n",
    "```\n",
    "from sys import path\n",
    "path.append('c:/path/to/the/modules')\n",
    "```\n"
   ]
  },
  {
   "cell_type": "code",
   "execution_count": 2,
   "metadata": {
    "colab": {
     "base_uri": "https://localhost:8080/"
    },
    "executionInfo": {
     "elapsed": 2046,
     "status": "ok",
     "timestamp": 1648233621185,
     "user": {
      "displayName": "Abhijeet Kaushal",
      "photoUrl": "https://lh3.googleusercontent.com/a/default-user=s64",
      "userId": "00262844230884251193"
     },
     "user_tz": -330
    },
    "id": "jGNKTgq0ySMS",
    "outputId": "30ab43f0-f35c-4e1d-cc30-3035ebf88c6e"
   },
   "outputs": [],
   "source": [
    "# import libraries\n",
    "import pandas as pd\n",
    "from datetime import date\n",
    "import numpy as np\n",
    "import warnings\n",
    "import time\n",
    "import CSUtilities as csu\n",
    "import queries\n",
    "import matplotlib.pyplot as plt\n",
    "%matplotlib inline\n",
    "\n",
    "today = date.today()\n",
    "warnings.simplefilter(action='ignore', category=pd.errors.PerformanceWarning)\n",
    "warnings.simplefilter(action='ignore', category=UserWarning)"
   ]
  },
  {
   "cell_type": "code",
   "execution_count": 9,
   "metadata": {},
   "outputs": [],
   "source": [
    "# set connection parameters\n",
    "dbname=''\n",
    "host=''\n",
    "port=0\n",
    "user=''\n",
    "password=''"
   ]
  },
  {
   "cell_type": "markdown",
   "metadata": {},
   "source": [
    "### Date Range, Groups, and Model"
   ]
  },
  {
   "cell_type": "code",
   "execution_count": 4,
   "metadata": {
    "executionInfo": {
     "elapsed": 3,
     "status": "ok",
     "timestamp": 1648233746271,
     "user": {
      "displayName": "Abhijeet Kaushal",
      "photoUrl": "https://lh3.googleusercontent.com/a/default-user=s64",
      "userId": "00262844230884251193"
     },
     "user_tz": -330
    },
    "id": "OwgMDvgtEuMe"
   },
   "outputs": [
    {
     "data": {
      "text/plain": [
       "\"createdatutc >= '2022-06-16' and createdatutc <= '2022-06-17 23:59:59'\""
      ]
     },
     "execution_count": 4,
     "metadata": {},
     "output_type": "execute_result"
    }
   ],
   "source": [
    "# date range\n",
    "date_range = csu.dateRange('2022-06-16', '2022-06-17')\n",
    "date_range"
   ]
  },
  {
   "cell_type": "code",
   "execution_count": 5,
   "metadata": {
    "colab": {
     "base_uri": "https://localhost:8080/"
    },
    "executionInfo": {
     "elapsed": 375,
     "status": "ok",
     "timestamp": 1648233742840,
     "user": {
      "displayName": "Abhijeet Kaushal",
      "photoUrl": "https://lh3.googleusercontent.com/a/default-user=s64",
      "userId": "00262844230884251193"
     },
     "user_tz": -330
    },
    "id": "vIGLdXMq0BtT",
    "outputId": "ea837460-c676-44d5-a1d3-e8a88104a2a7"
   },
   "outputs": [
    {
     "name": "stdout",
     "output_type": "stream",
     "text": [
      "duplicate groups: 1\n",
      "unique groups: 30\n"
     ]
    }
   ],
   "source": [
    "# read groups from model file (columns name -> 'groupid')\n",
    "group_data = pd.read_excel('model.xlsx',sheet_name=\"groups\")\n",
    "print('duplicate groups:', group_data.duplicated(subset=['groupid']).sum())\n",
    "groupids = group_data['groupid'].dropna().drop_duplicates()\n",
    "groupids = tuple(groupids)\n",
    "print('unique groups:', len(groupids))"
   ]
  },
  {
   "cell_type": "code",
   "execution_count": 6,
   "metadata": {
    "id": "Cj2w0bsKzlQl"
   },
   "outputs": [
    {
     "name": "stdout",
     "output_type": "stream",
     "text": [
      "(121, 5)\n"
     ]
    },
    {
     "data": {
      "text/html": [
       "<div>\n",
       "<style scoped>\n",
       "    .dataframe tbody tr th:only-of-type {\n",
       "        vertical-align: middle;\n",
       "    }\n",
       "\n",
       "    .dataframe tbody tr th {\n",
       "        vertical-align: top;\n",
       "    }\n",
       "\n",
       "    .dataframe thead th {\n",
       "        text-align: right;\n",
       "    }\n",
       "</style>\n",
       "<table border=\"1\" class=\"dataframe\">\n",
       "  <thead>\n",
       "    <tr style=\"text-align: right;\">\n",
       "      <th></th>\n",
       "      <th>Keywords</th>\n",
       "      <th>Identifier</th>\n",
       "      <th>Main_Subset</th>\n",
       "      <th>Category</th>\n",
       "      <th>Transformations</th>\n",
       "    </tr>\n",
       "  </thead>\n",
       "  <tbody>\n",
       "    <tr>\n",
       "      <th>1</th>\n",
       "      <td>Health</td>\n",
       "      <td>Sub category</td>\n",
       "      <td>Main</td>\n",
       "      <td>Category</td>\n",
       "      <td>health,sehat, swasth, svasth</td>\n",
       "    </tr>\n",
       "    <tr>\n",
       "      <th>2</th>\n",
       "      <td>Nutrition</td>\n",
       "      <td>Sub category</td>\n",
       "      <td>Main</td>\n",
       "      <td>Category</td>\n",
       "      <td>nutrition,nutritional,_pusti_,pushti,_পুষ্টি_,...</td>\n",
       "    </tr>\n",
       "    <tr>\n",
       "      <th>3</th>\n",
       "      <td>Diet</td>\n",
       "      <td>Sub category</td>\n",
       "      <td>Main</td>\n",
       "      <td>Category</td>\n",
       "      <td>_diet_, dieting, kum khaana, kum khana</td>\n",
       "    </tr>\n",
       "    <tr>\n",
       "      <th>4</th>\n",
       "      <td>Nutrients</td>\n",
       "      <td>Sub category</td>\n",
       "      <td>Main</td>\n",
       "      <td>Category</td>\n",
       "      <td>nutrient, poshak</td>\n",
       "    </tr>\n",
       "    <tr>\n",
       "      <th>5</th>\n",
       "      <td>Vitamin</td>\n",
       "      <td>Sub category</td>\n",
       "      <td>Subset</td>\n",
       "      <td>Category</td>\n",
       "      <td>vitamin</td>\n",
       "    </tr>\n",
       "  </tbody>\n",
       "</table>\n",
       "</div>"
      ],
      "text/plain": [
       "    Keywords    Identifier Main_Subset  Category  \\\n",
       "1     Health  Sub category        Main  Category   \n",
       "2  Nutrition  Sub category        Main  Category   \n",
       "3       Diet  Sub category        Main  Category   \n",
       "4  Nutrients  Sub category        Main  Category   \n",
       "5    Vitamin  Sub category      Subset  Category   \n",
       "\n",
       "                                     Transformations  \n",
       "1                       health,sehat, swasth, svasth  \n",
       "2  nutrition,nutritional,_pusti_,pushti,_পুষ্টি_,...  \n",
       "3             _diet_, dieting, kum khaana, kum khana  \n",
       "4                                   nutrient, poshak  \n",
       "5                                            vitamin  "
      ]
     },
     "execution_count": 6,
     "metadata": {},
     "output_type": "execute_result"
    }
   ],
   "source": [
    "# load model file\n",
    "model = pd.read_excel('model.xlsx',sheet_name=\"keywords\")\n",
    "model.columns = [x for x in model.iloc[0]]\n",
    "model = model[1:]\n",
    "print(model.shape)\n",
    "model.head()"
   ]
  },
  {
   "cell_type": "code",
   "execution_count": 7,
   "metadata": {},
   "outputs": [
    {
     "data": {
      "text/plain": [
       "\"TEXTLOWER ILIKE '%health%' OR TEXTLOWER ILIKE '%sehat%' OR TEXTLOWER ILIKE '%swasth%' OR TEXTLOWER ILIKE '%svasth%' OR TEXTLOWER ILIKE '%nutrition%' OR TEXTLOWER ILIKE '%nutritional%' OR TEXTLOWER ILIKE '% pusti %' OR TEXTLOWER ILIKE '%pushti%' OR TEXTLOWER ILIKE '% পুষ্টি %' OR TEXTLOWER ILIKE '%nutritious%' OR TEXTLOWER ILIKE '% diet %' OR TEXTLOWER ILIKE '%dieting%' OR TEXTLOWER ILIKE '%kum khaana%' OR TEXTLOWER ILIKE '%kum khana%' OR TEXTLOWER ILIKE '%nutrient%' OR TEXTLOWER ILIKE '%poshak%' OR TEXTLOWER ILIKE '%chawanprash%' OR TEXTLOWER ILIKE '%chawanpras%' OR TEXTLOWER ILIKE '%chavanprash%' OR TEXTLOWER ILIKE '%chavan prash%' OR TEXTLOWER ILIKE '%chyanwanprash%' OR TEXTLOWER ILIKE '%chyawanpras%' OR TEXTLOWER ILIKE '%chyavanpras%' OR TEXTLOWER ILIKE '% keto %' OR TEXTLOWER ILIKE '%intermittent%' OR TEXTLOWER ILIKE '%intermitent%' OR TEXTLOWER ILIKE '%fasting%' OR TEXTLOWER ILIKE '% vrat %' OR TEXTLOWER ILIKE '%upwaas%' OR TEXTLOWER ILIKE '%upvaas%' OR TEXTLOWER ILIKE '% upwas %' OR TEXTLOWER ILIKE '% upvas %' OR TEXTLOWER ILIKE '% food %' OR TEXTLOWER ILIKE '%khaana%' OR TEXTLOWER ILIKE '% khana %' OR TEXTLOWER ILIKE '%breastfeed%' OR TEXTLOWER ILIKE '%breast feed%' OR TEXTLOWER ILIKE '%ma ka dudh%' OR TEXTLOWER ILIKE '%maa ka dhudh%' OR TEXTLOWER ILIKE '%maa ka doodh%' OR TEXTLOWER ILIKE '%ma ka doodh%' OR TEXTLOWER ILIKE '%maa ka dudh%' OR TEXTLOWER ILIKE '%ma ka dhudh%' OR TEXTLOWER ILIKE '%ma ka milk%' OR TEXTLOWER ILIKE '%maa ka milk%' OR TEXTLOWER ILIKE '%breastmilk%' OR TEXTLOWER ILIKE '%breast milk%' OR TEXTLOWER ILIKE '%breast pump%' OR TEXTLOWER ILIKE '%stomach upset%' OR TEXTLOWER ILIKE '%indigestion%' OR TEXTLOWER ILIKE '%digestion%' OR TEXTLOWER ILIKE '%intolerance%' OR TEXTLOWER ILIKE '%intorelant%' OR TEXTLOWER ILIKE '%digest%' OR TEXTLOWER ILIKE '%pachan%' OR TEXTLOWER ILIKE '%digestive system%' OR TEXTLOWER ILIKE '%হজম%' OR TEXTLOWER ILIKE '%hojom%' OR TEXTLOWER ILIKE '% paachan%' OR TEXTLOWER ILIKE '% pachan %' OR TEXTLOWER ILIKE '%weight% gain%' OR TEXTLOWER ILIKE '%weight% badh%' OR TEXTLOWER ILIKE '%vajan% badh%' OR TEXTLOWER ILIKE '% badh%vajan%' OR TEXTLOWER ILIKE '%weight% loss %' OR TEXTLOWER ILIKE '%vajan% kum %' OR TEXTLOWER ILIKE '% kum %vajan%' OR TEXTLOWER ILIKE '% bone%strength%' OR TEXTLOWER ILIKE '% bone%density%' OR TEXTLOWER ILIKE '%haddi%majbut%' OR TEXTLOWER ILIKE '%haddi%majboot%' OR TEXTLOWER ILIKE '% bone% loss%' OR TEXTLOWER ILIKE '%haddi%kamjor%' OR TEXTLOWER ILIKE '%haddi%nuksan%' OR TEXTLOWER ILIKE '%haddi%nuksaan%' OR TEXTLOWER ILIKE '%haddi%kamzor%' OR TEXTLOWER ILIKE '%immunity%' OR TEXTLOWER ILIKE '%immune%' OR TEXTLOWER ILIKE '%pratirodhak%' OR TEXTLOWER ILIKE '%pratirodak%' OR TEXTLOWER ILIKE '%pratiraksha%' OR TEXTLOWER ILIKE '%obesity%' OR TEXTLOWER ILIKE '%obese%' OR TEXTLOWER ILIKE '% fat %' OR TEXTLOWER ILIKE '% mota %' OR TEXTLOWER ILIKE '% moti %' OR TEXTLOWER ILIKE '% mote %' OR TEXTLOWER ILIKE '% fats %' OR TEXTLOWER ILIKE '% vasa %' OR TEXTLOWER ILIKE '% carbohydrat%' OR TEXTLOWER ILIKE '% carbs %' OR TEXTLOWER ILIKE '%protien%' OR TEXTLOWER ILIKE '%protein%' OR TEXTLOWER ILIKE '% whey %' OR TEXTLOWER ILIKE '%pribiotic%' OR TEXTLOWER ILIKE '%pribiotik%' OR TEXTLOWER ILIKE '%pribiotick%' OR TEXTLOWER ILIKE '%prebiotic%' OR TEXTLOWER ILIKE '%probiotic%' OR TEXTLOWER ILIKE '%probiotik%' OR TEXTLOWER ILIKE '%pn kid%' OR TEXTLOWER ILIKE '%vitakid%' OR TEXTLOWER ILIKE '%vitagen%' OR TEXTLOWER ILIKE '%yakult%' OR TEXTLOWER ILIKE '%ensure%' OR TEXTLOWER ILIKE '%protinex%' OR TEXTLOWER ILIKE '%protein x %' OR TEXTLOWER ILIKE '%proteinx %' OR TEXTLOWER ILIKE '%protien x %' OR TEXTLOWER ILIKE '%protienx %' OR TEXTLOWER ILIKE '%mother horlick%' OR TEXTLOWER ILIKE '%horlick mother%' OR TEXTLOWER ILIKE '%women horlick%' OR TEXTLOWER ILIKE '%horlick women%' OR TEXTLOWER ILIKE '%mother''s horlick%' OR TEXTLOWER ILIKE '%mother''s plus%horlick%' OR TEXTLOWER ILIKE '%women''s plus%horlick%' OR TEXTLOWER ILIKE '%mother plus%horlick%' OR TEXTLOWER ILIKE '%women plus%horlick%' OR TEXTLOWER ILIKE '%women''s horlick%' OR TEXTLOWER ILIKE '%prohance%' OR TEXTLOWER ILIKE '%horlick%protein plus%' OR TEXTLOWER ILIKE '%protein plus%horlick%' OR TEXTLOWER ILIKE '%horlick%protien plus%' OR TEXTLOWER ILIKE '%protien plus%horlick%'\""
      ]
     },
     "execution_count": 7,
     "metadata": {},
     "output_type": "execute_result"
    }
   ],
   "source": [
    "# make transformations\n",
    "tx = csu.makeModelTransformations(model)\n",
    "# tx = csu.makeTransformations('#hashtag1, #hashtag2', model=False) # use this line for hashtag mentions\n",
    "tx"
   ]
  },
  {
   "cell_type": "markdown",
   "metadata": {},
   "source": [
    "### Query\n",
    "This part generates and executes SQL query. <br>\n",
    "\n",
    "1. queries.generateSQL('conv') generates SQL query. It can also be printed to see the query. <br>\n",
    "\n",
    "'conv' - use this to run conversations query. <br>\n",
    "'mentions' - use this to run mentions query. <br>\n",
    "\n",
    "2. queries.executeQuery() function takes connection parameters and query from previous function as inputs and outputs the result 'y' in a dataframe. <br>\n",
    "\n",
    "'backup' variable can be used to restore original query output 'y' if things do go the way you wanted them to...\n",
    "\n",
    "\n"
   ]
  },
  {
   "cell_type": "code",
   "execution_count": 10,
   "metadata": {},
   "outputs": [
    {
     "name": "stdout",
     "output_type": "stream",
     "text": [
      "exec time: 22.12 seconds\n"
     ]
    }
   ],
   "source": [
    "tick = time.time()\n",
    "query = queries.generateSQL('conv', groupids, tx, date_range)\n",
    "y = queries.executeQuery(dbname, host, port, user, password, query=query)\n",
    "print(f'exec time: {round(time.time()-tick,2)} seconds')\n",
    "backup = y.copy()"
   ]
  },
  {
   "cell_type": "code",
   "execution_count": 8,
   "metadata": {
    "id": "iBNjmWfK9gDf"
   },
   "outputs": [],
   "source": [
    "# restore y\n",
    "# y = backup.copy()"
   ]
  },
  {
   "cell_type": "markdown",
   "metadata": {},
   "source": [
    "### Category Conversations\n",
    "catconv - category conversations df <br>\n",
    "cc_monthwise - Monthwise category conversations df<br>\n",
    "grpbycc - Groupwise category conversations df (will only output if **group_wise=True**)<br>"
   ]
  },
  {
   "cell_type": "code",
   "execution_count": 11,
   "metadata": {},
   "outputs": [
    {
     "name": "stdout",
     "output_type": "stream",
     "text": [
      "Category Conversations: 1619 \n",
      "Category Conversations #: 436 \n",
      "Category Conversations organic: 1183 \n",
      " \n",
      "First timestamp: 2022-06-16 00:32:42 \n",
      "Last timestamp: 2022-06-17 22:42:48 \n",
      "\n",
      "Monthwise Category Conversations\n",
      "   Keywords  Jun-22\n",
      "0    Count    1619\n"
     ]
    }
   ],
   "source": [
    "catconv, catconv_all, catconv_h, catconv_o, ccftimestamp, ccltimestamp, cc_monthwise, grpbycc = csu.getKPICount(y, group_wise=False, aho='all')\n",
    "csu.printCount('Category Conversations', catconv_all, catconv_h, catconv_o, ccftimestamp, ccltimestamp, cc_monthwise, grpbycc)"
   ]
  },
  {
   "cell_type": "code",
   "execution_count": 12,
   "metadata": {
    "id": "YorOn2QyVkXy",
    "tags": []
   },
   "outputs": [
    {
     "name": "stdout",
     "output_type": "stream",
     "text": [
      "Reference Conversations\n",
      "────────────────────────────────────────────────────────────────────────────────\n",
      "hello mommies...i am looking for a gud paedritician or vaccination clinic near ramesh nagar,new delhi ...my sons paedritician is out for few days... kindly provide the name of doctor n the contact no. also on which i can take appointment for vaccination. \n",
      "preferable areas in ramesh nagar and nearby would be : ramesh nagar, kirti nagar, moti nagar, patel nagar\n",
      "tia\n",
      "────────────────────────────────────────────────────────────────────────────────\n",
      "thanks for sharing ur baby story dear....yes u said right every child is different n their  growth pattern also....i am also gave bm to my child till 6 n after 6 start semisolids like daliya,dal,khichdi, suji kherr vegetables soups,fruits puree, makhana,potato mashed n banana...but after 6 i have very low bm supply...so i gave dexolac stage 2 fm suggested by my pediatrician...it has all essential nutrients to give our child proper growth n development...n it is easily digestible also....my child love to feed fm mix food also...\n",
      "────────────────────────────────────────────────────────────────────────────────\n",
      "iss weight loss journey me mujhe bahaut bhuk lag rahi h samjh nae aata h kya khaau.. fruits v leti hu coconut water v leti hu sb kuch tym p leti hu fir v bhuk lag rahi h bahaut\n",
      "────────────────────────────────────────────────────────────────────────────────\n",
      "no dear iske sath aapko walk and excercise karni hogi ... healthy diet v lena hoga\n",
      "────────────────────────────────────────────────────────────────────────────────\n",
      "ji hai maine day 1 se up to 6 month dexolac stage 1 diya hai after 6 month complete i switch to stage 2. ea fm bahut acha hai meri beti day 1 se le rahi hai easily digest hai.bahut sari nutrients milta hai.\n",
      "────────────────────────────────────────────────────────────────────────────────\n"
     ]
    }
   ],
   "source": [
    "csu.printReferenceConv(df=catconv, start_index=0, num_conv=5)"
   ]
  },
  {
   "cell_type": "code",
   "execution_count": 16,
   "metadata": {},
   "outputs": [],
   "source": [
    "# download dump\n",
    "# catconv.to_pickle(f'convdump {today}.pickle')\n",
    "catconv.to_excel(f'convdump {today}.xlsx', index=False)"
   ]
  },
  {
   "cell_type": "code",
   "execution_count": 218,
   "metadata": {
    "colab": {
     "base_uri": "https://localhost:8080/"
    },
    "executionInfo": {
     "elapsed": 4314,
     "status": "ok",
     "timestamp": 1648231574843,
     "user": {
      "displayName": "Abhijeet Kaushal",
      "photoUrl": "https://lh3.googleusercontent.com/a/default-user=s64",
      "userId": "00262844230884251193"
     },
     "user_tz": -330
    },
    "id": "rax_fR6D2Hdc",
    "outputId": "3823fff9-f419-419f-9d6f-88f30f00ec33"
   },
   "outputs": [
    {
     "data": {
      "text/plain": [
       "(9081, 7)"
      ]
     },
     "execution_count": 218,
     "metadata": {},
     "output_type": "execute_result"
    }
   ],
   "source": [
    "# organic catconv\n",
    "organic = catconv[~catconv[\"textlower\"].str.contains(\"#\")]\n",
    "organic.shape"
   ]
  },
  {
   "cell_type": "markdown",
   "metadata": {},
   "source": [
    "### Make convdump1_0"
   ]
  },
  {
   "cell_type": "code",
   "execution_count": 13,
   "metadata": {},
   "outputs": [],
   "source": [
    "# create transformations dict\n",
    "model_dict = csu.makeKeywordDict(model)"
   ]
  },
  {
   "cell_type": "code",
   "execution_count": 14,
   "metadata": {
    "colab": {
     "base_uri": "https://localhost:8080/"
    },
    "executionInfo": {
     "elapsed": 377,
     "status": "ok",
     "timestamp": 1648204446468,
     "user": {
      "displayName": "Abhijeet Kaushal",
      "photoUrl": "https://lh3.googleusercontent.com/a/default-user=s64",
      "userId": "00262844230884251193"
     },
     "user_tz": -330
    },
    "id": "C6KorNVM9DCC",
    "outputId": "72974367-7bc3-4129-e03e-9f06d95a219b"
   },
   "outputs": [
    {
     "name": "stdout",
     "output_type": "stream",
     "text": [
      "(1619, 128)\n",
      "exec time: 2.33 seconds\n"
     ]
    }
   ],
   "source": [
    "# make 1_0 dump\n",
    "tick = time.time()\n",
    "catconv1_0 = csu.makeOneZeroDataFrame(catconv, model_dict)                # replace catconv with organic to only use organic conversations\n",
    "print(catconv1_0.shape)\n",
    "print(f'exec time: {round(time.time()-tick,2)} seconds')"
   ]
  },
  {
   "cell_type": "code",
   "execution_count": 38,
   "metadata": {},
   "outputs": [],
   "source": [
    "# catconv1_0.to_pickle(f'convdump1_0 {today}.pickle')\n",
    "catconv1_0.to_excel(f'convdump1_0 {today}.xlsx',index=False)\n",
    "# catconv1_0.textlower.to_clipboard(index=False)"
   ]
  },
  {
   "cell_type": "markdown",
   "metadata": {},
   "source": [
    "### Mentions & SOV"
   ]
  },
  {
   "cell_type": "code",
   "execution_count": 14,
   "metadata": {},
   "outputs": [
    {
     "data": {
      "text/html": [
       "<div>\n",
       "<style scoped>\n",
       "    .dataframe tbody tr th:only-of-type {\n",
       "        vertical-align: middle;\n",
       "    }\n",
       "\n",
       "    .dataframe tbody tr th {\n",
       "        vertical-align: top;\n",
       "    }\n",
       "\n",
       "    .dataframe thead th {\n",
       "        text-align: right;\n",
       "    }\n",
       "</style>\n",
       "<table border=\"1\" class=\"dataframe\">\n",
       "  <thead>\n",
       "    <tr style=\"text-align: right;\">\n",
       "      <th></th>\n",
       "      <th>Keywords</th>\n",
       "      <th>Mentions</th>\n",
       "    </tr>\n",
       "  </thead>\n",
       "  <tbody>\n",
       "    <tr>\n",
       "      <th>0</th>\n",
       "      <td>Health</td>\n",
       "      <td>445</td>\n",
       "    </tr>\n",
       "    <tr>\n",
       "      <th>1</th>\n",
       "      <td>Nutrition</td>\n",
       "      <td>51</td>\n",
       "    </tr>\n",
       "    <tr>\n",
       "      <th>2</th>\n",
       "      <td>Diet</td>\n",
       "      <td>78</td>\n",
       "    </tr>\n",
       "  </tbody>\n",
       "</table>\n",
       "</div>"
      ],
      "text/plain": [
       "    Keywords  Mentions\n",
       "0     Health       445\n",
       "1  Nutrition        51\n",
       "2       Diet        78"
      ]
     },
     "execution_count": 14,
     "metadata": {},
     "output_type": "execute_result"
    }
   ],
   "source": [
    "# mentions dataframe\n",
    "keyword_mentions = csu.calculateSOV(model.Keywords.to_list(), catconv1_0)\n",
    "keyword_mentions.to_clipboard(index=False, header=False)\n",
    "keyword_mentions.head(3)"
   ]
  },
  {
   "cell_type": "code",
   "execution_count": 15,
   "metadata": {
    "tags": []
   },
   "outputs": [
    {
     "data": {
      "text/html": [
       "<div>\n",
       "<style scoped>\n",
       "    .dataframe tbody tr th:only-of-type {\n",
       "        vertical-align: middle;\n",
       "    }\n",
       "\n",
       "    .dataframe tbody tr th {\n",
       "        vertical-align: top;\n",
       "    }\n",
       "\n",
       "    .dataframe thead th {\n",
       "        text-align: right;\n",
       "    }\n",
       "</style>\n",
       "<table border=\"1\" class=\"dataframe\">\n",
       "  <thead>\n",
       "    <tr style=\"text-align: right;\">\n",
       "      <th></th>\n",
       "      <th>Keywords</th>\n",
       "      <th>Mentions</th>\n",
       "    </tr>\n",
       "  </thead>\n",
       "  <tbody>\n",
       "    <tr>\n",
       "      <th>0</th>\n",
       "      <td>Ensure</td>\n",
       "      <td>8</td>\n",
       "    </tr>\n",
       "    <tr>\n",
       "      <th>1</th>\n",
       "      <td>Protinex</td>\n",
       "      <td>0</td>\n",
       "    </tr>\n",
       "    <tr>\n",
       "      <th>2</th>\n",
       "      <td>Protein x</td>\n",
       "      <td>0</td>\n",
       "    </tr>\n",
       "  </tbody>\n",
       "</table>\n",
       "</div>"
      ],
      "text/plain": [
       "    Keywords  Mentions\n",
       "0     Ensure         8\n",
       "1   Protinex         0\n",
       "2  Protein x         0"
      ]
     },
     "execution_count": 15,
     "metadata": {},
     "output_type": "execute_result"
    }
   ],
   "source": [
    "# brands sov dataframe\n",
    "sov = csu.calculateSOV(model[model.Category == 'Brands'].Keywords.to_list(), catconv1_0)\n",
    "sov.to_clipboard(index=False, header=False)\n",
    "sov.head(3)"
   ]
  },
  {
   "cell_type": "code",
   "execution_count": 16,
   "metadata": {},
   "outputs": [
    {
     "data": {
      "text/html": [
       "<div>\n",
       "<style scoped>\n",
       "    .dataframe tbody tr th:only-of-type {\n",
       "        vertical-align: middle;\n",
       "    }\n",
       "\n",
       "    .dataframe tbody tr th {\n",
       "        vertical-align: top;\n",
       "    }\n",
       "\n",
       "    .dataframe thead th {\n",
       "        text-align: right;\n",
       "    }\n",
       "</style>\n",
       "<table border=\"1\" class=\"dataframe\">\n",
       "  <thead>\n",
       "    <tr style=\"text-align: right;\">\n",
       "      <th></th>\n",
       "      <th>Keywords</th>\n",
       "      <th>Jun-22</th>\n",
       "    </tr>\n",
       "  </thead>\n",
       "  <tbody>\n",
       "    <tr>\n",
       "      <th>0</th>\n",
       "      <td>Health</td>\n",
       "      <td>445</td>\n",
       "    </tr>\n",
       "    <tr>\n",
       "      <th>1</th>\n",
       "      <td>Nutrition</td>\n",
       "      <td>51</td>\n",
       "    </tr>\n",
       "    <tr>\n",
       "      <th>2</th>\n",
       "      <td>Diet</td>\n",
       "      <td>78</td>\n",
       "    </tr>\n",
       "    <tr>\n",
       "      <th>3</th>\n",
       "      <td>Nutrients</td>\n",
       "      <td>32</td>\n",
       "    </tr>\n",
       "    <tr>\n",
       "      <th>4</th>\n",
       "      <td>Vitamin</td>\n",
       "      <td>19</td>\n",
       "    </tr>\n",
       "    <tr>\n",
       "      <th>...</th>\n",
       "      <td>...</td>\n",
       "      <td>...</td>\n",
       "    </tr>\n",
       "    <tr>\n",
       "      <th>116</th>\n",
       "      <td>Protinex</td>\n",
       "      <td>0</td>\n",
       "    </tr>\n",
       "    <tr>\n",
       "      <th>117</th>\n",
       "      <td>Protein x</td>\n",
       "      <td>0</td>\n",
       "    </tr>\n",
       "    <tr>\n",
       "      <th>118</th>\n",
       "      <td>Mother horlicks</td>\n",
       "      <td>0</td>\n",
       "    </tr>\n",
       "    <tr>\n",
       "      <th>119</th>\n",
       "      <td>Prohance</td>\n",
       "      <td>0</td>\n",
       "    </tr>\n",
       "    <tr>\n",
       "      <th>120</th>\n",
       "      <td>Horlicks Protein Plus</td>\n",
       "      <td>0</td>\n",
       "    </tr>\n",
       "  </tbody>\n",
       "</table>\n",
       "<p>121 rows × 2 columns</p>\n",
       "</div>"
      ],
      "text/plain": [
       "                  Keywords  Jun-22\n",
       "0                   Health     445\n",
       "1                Nutrition      51\n",
       "2                     Diet      78\n",
       "3                Nutrients      32\n",
       "4                  Vitamin      19\n",
       "..                     ...     ...\n",
       "116               Protinex       0\n",
       "117              Protein x       0\n",
       "118        Mother horlicks       0\n",
       "119               Prohance       0\n",
       "120  Horlicks Protein Plus       0\n",
       "\n",
       "[121 rows x 2 columns]"
      ]
     },
     "execution_count": 16,
     "metadata": {},
     "output_type": "execute_result"
    }
   ],
   "source": [
    "# monthwise keyword mentions dataframe\n",
    "y2 = catconv1_0.copy()\n",
    "y2.createdatutc = y2.createdatutc.astype('datetime64[M]')\n",
    "y2 = y2.groupby('createdatutc')[y2.select_dtypes(include='int8').columns].sum().T.astype('int32')\n",
    "y2.columns = y2.columns.strftime('%b-%y')\n",
    "y2 = y2.reset_index().rename_axis(None,axis=1).rename(columns={'index':'Keywords'})\n",
    "y2.to_clipboard()\n",
    "y2"
   ]
  },
  {
   "cell_type": "code",
   "execution_count": 17,
   "metadata": {
    "tags": []
   },
   "outputs": [
    {
     "data": {
      "text/html": [
       "<div>\n",
       "<style scoped>\n",
       "    .dataframe tbody tr th:only-of-type {\n",
       "        vertical-align: middle;\n",
       "    }\n",
       "\n",
       "    .dataframe tbody tr th {\n",
       "        vertical-align: top;\n",
       "    }\n",
       "\n",
       "    .dataframe thead th {\n",
       "        text-align: right;\n",
       "    }\n",
       "</style>\n",
       "<table border=\"1\" class=\"dataframe\">\n",
       "  <thead>\n",
       "    <tr style=\"text-align: right;\">\n",
       "      <th></th>\n",
       "      <th>Keywords</th>\n",
       "      <th>Jun-22</th>\n",
       "    </tr>\n",
       "  </thead>\n",
       "  <tbody>\n",
       "    <tr>\n",
       "      <th>115</th>\n",
       "      <td>Ensure</td>\n",
       "      <td>8</td>\n",
       "    </tr>\n",
       "    <tr>\n",
       "      <th>116</th>\n",
       "      <td>Protinex</td>\n",
       "      <td>0</td>\n",
       "    </tr>\n",
       "    <tr>\n",
       "      <th>117</th>\n",
       "      <td>Protein x</td>\n",
       "      <td>0</td>\n",
       "    </tr>\n",
       "    <tr>\n",
       "      <th>118</th>\n",
       "      <td>Mother horlicks</td>\n",
       "      <td>0</td>\n",
       "    </tr>\n",
       "    <tr>\n",
       "      <th>119</th>\n",
       "      <td>Prohance</td>\n",
       "      <td>0</td>\n",
       "    </tr>\n",
       "    <tr>\n",
       "      <th>120</th>\n",
       "      <td>Horlicks Protein Plus</td>\n",
       "      <td>0</td>\n",
       "    </tr>\n",
       "  </tbody>\n",
       "</table>\n",
       "</div>"
      ],
      "text/plain": [
       "                  Keywords  Jun-22\n",
       "115                 Ensure       8\n",
       "116               Protinex       0\n",
       "117              Protein x       0\n",
       "118        Mother horlicks       0\n",
       "119               Prohance       0\n",
       "120  Horlicks Protein Plus       0"
      ]
     },
     "execution_count": 17,
     "metadata": {},
     "output_type": "execute_result"
    }
   ],
   "source": [
    "# monthwise brands sov dataframe\n",
    "y2_brand = y2.merge(model[['Keywords','Category']], on='Keywords',how='left')\n",
    "y2_brand = y2_brand[y2_brand.Category == 'Brands'].iloc[:,:-1]\n",
    "y2_brand.to_clipboard(index=False)\n",
    "y2_brand"
   ]
  },
  {
   "cell_type": "code",
   "execution_count": 18,
   "metadata": {
    "tags": []
   },
   "outputs": [
    {
     "data": {
      "text/html": [
       "<div>\n",
       "<style scoped>\n",
       "    .dataframe tbody tr th:only-of-type {\n",
       "        vertical-align: middle;\n",
       "    }\n",
       "\n",
       "    .dataframe tbody tr th {\n",
       "        vertical-align: top;\n",
       "    }\n",
       "\n",
       "    .dataframe thead th {\n",
       "        text-align: right;\n",
       "    }\n",
       "</style>\n",
       "<table border=\"1\" class=\"dataframe\">\n",
       "  <thead>\n",
       "    <tr style=\"text-align: right;\">\n",
       "      <th></th>\n",
       "      <th>Category</th>\n",
       "      <th>Keywords</th>\n",
       "      <th>Jun-22</th>\n",
       "    </tr>\n",
       "  </thead>\n",
       "  <tbody>\n",
       "    <tr>\n",
       "      <th>0</th>\n",
       "      <td>Category Conversations</td>\n",
       "      <td>Count</td>\n",
       "      <td>1619</td>\n",
       "    </tr>\n",
       "    <tr>\n",
       "      <th>1</th>\n",
       "      <td>Category</td>\n",
       "      <td>Health</td>\n",
       "      <td>445</td>\n",
       "    </tr>\n",
       "    <tr>\n",
       "      <th>2</th>\n",
       "      <td>Category</td>\n",
       "      <td>Nutrition</td>\n",
       "      <td>51</td>\n",
       "    </tr>\n",
       "    <tr>\n",
       "      <th>3</th>\n",
       "      <td>Category</td>\n",
       "      <td>Diet</td>\n",
       "      <td>78</td>\n",
       "    </tr>\n",
       "    <tr>\n",
       "      <th>4</th>\n",
       "      <td>Category</td>\n",
       "      <td>Nutrients</td>\n",
       "      <td>32</td>\n",
       "    </tr>\n",
       "  </tbody>\n",
       "</table>\n",
       "</div>"
      ],
      "text/plain": [
       "                 Category   Keywords  Jun-22\n",
       "0  Category Conversations      Count    1619\n",
       "1                Category     Health     445\n",
       "2                Category  Nutrition      51\n",
       "3                Category       Diet      78\n",
       "4                Category  Nutrients      32"
      ]
     },
     "execution_count": 18,
     "metadata": {},
     "output_type": "execute_result"
    }
   ],
   "source": [
    "# Mentions with their category and conversations row dataframe\n",
    "s2 = model[['Category', 'Keywords']].merge(y2, on='Keywords', how='right')\n",
    "s2 = pd.concat([cc_monthwise, s2], ignore_index=True)\n",
    "s2 = s2[list(s2.columns[-1:]) + list(s2.columns[:-1])]\n",
    "s2.drop_duplicates(inplace=True)\n",
    "s2.fillna('Category Conversations', inplace=True)\n",
    "s2.to_clipboard(index=False)\n",
    "s2.head(5)"
   ]
  },
  {
   "cell_type": "code",
   "execution_count": 19,
   "metadata": {
    "tags": []
   },
   "outputs": [
    {
     "data": {
      "text/html": [
       "<div>\n",
       "<style scoped>\n",
       "    .dataframe tbody tr th:only-of-type {\n",
       "        vertical-align: middle;\n",
       "    }\n",
       "\n",
       "    .dataframe tbody tr th {\n",
       "        vertical-align: top;\n",
       "    }\n",
       "\n",
       "    .dataframe thead th {\n",
       "        text-align: right;\n",
       "    }\n",
       "</style>\n",
       "<table border=\"1\" class=\"dataframe\">\n",
       "  <thead>\n",
       "    <tr style=\"text-align: right;\">\n",
       "      <th></th>\n",
       "      <th>Keywords</th>\n",
       "      <th>Jun-22</th>\n",
       "    </tr>\n",
       "  </thead>\n",
       "  <tbody>\n",
       "    <tr>\n",
       "      <th>0</th>\n",
       "      <td>Count</td>\n",
       "      <td>1619</td>\n",
       "    </tr>\n",
       "    <tr>\n",
       "      <th>115</th>\n",
       "      <td>Ensure</td>\n",
       "      <td>8</td>\n",
       "    </tr>\n",
       "    <tr>\n",
       "      <th>116</th>\n",
       "      <td>Protinex</td>\n",
       "      <td>0</td>\n",
       "    </tr>\n",
       "    <tr>\n",
       "      <th>117</th>\n",
       "      <td>Protein x</td>\n",
       "      <td>0</td>\n",
       "    </tr>\n",
       "    <tr>\n",
       "      <th>118</th>\n",
       "      <td>Mother horlicks</td>\n",
       "      <td>0</td>\n",
       "    </tr>\n",
       "    <tr>\n",
       "      <th>119</th>\n",
       "      <td>Prohance</td>\n",
       "      <td>0</td>\n",
       "    </tr>\n",
       "    <tr>\n",
       "      <th>120</th>\n",
       "      <td>Horlicks Protein Plus</td>\n",
       "      <td>0</td>\n",
       "    </tr>\n",
       "  </tbody>\n",
       "</table>\n",
       "</div>"
      ],
      "text/plain": [
       "                  Keywords  Jun-22\n",
       "0                    Count    1619\n",
       "115                 Ensure       8\n",
       "116               Protinex       0\n",
       "117              Protein x       0\n",
       "118        Mother horlicks       0\n",
       "119               Prohance       0\n",
       "120  Horlicks Protein Plus       0"
      ]
     },
     "execution_count": 19,
     "metadata": {},
     "output_type": "execute_result"
    }
   ],
   "source": [
    "# monthwise sov with conversations row dataframe\n",
    "s2_brand = pd.concat([cc_monthwise, y2_brand])\n",
    "s2_brand.to_clipboard(index=False)\n",
    "s2_brand"
   ]
  },
  {
   "cell_type": "markdown",
   "metadata": {},
   "source": [
    "### Brand Mentions and Conversations"
   ]
  },
  {
   "cell_type": "code",
   "execution_count": 15,
   "metadata": {},
   "outputs": [],
   "source": [
    "brand = 'Nutrition'  # name should be same as in model"
   ]
  },
  {
   "cell_type": "code",
   "execution_count": 16,
   "metadata": {},
   "outputs": [],
   "source": [
    "m = catconv1_0[catconv1_0[brand] == 1]\n",
    "mentions, mentions_c, mentions_h, mentions_o, f_ts, l_ts, m_monthwise, grpbymentions = csu.getKPICount(m, group_wise=False, aho='all')\n",
    "mentions = mentions.loc[:,['groupid','createdatutc','textlower','senti']]"
   ]
  },
  {
   "cell_type": "code",
   "execution_count": 17,
   "metadata": {},
   "outputs": [
    {
     "data": {
      "text/html": [
       "<div>\n",
       "<style scoped>\n",
       "    .dataframe tbody tr th:only-of-type {\n",
       "        vertical-align: middle;\n",
       "    }\n",
       "\n",
       "    .dataframe tbody tr th {\n",
       "        vertical-align: top;\n",
       "    }\n",
       "\n",
       "    .dataframe thead th {\n",
       "        text-align: right;\n",
       "    }\n",
       "</style>\n",
       "<table border=\"1\" class=\"dataframe\">\n",
       "  <thead>\n",
       "    <tr style=\"text-align: right;\">\n",
       "      <th></th>\n",
       "      <th>groupid</th>\n",
       "      <th>createdatutc</th>\n",
       "      <th>textlower</th>\n",
       "      <th>senti</th>\n",
       "    </tr>\n",
       "  </thead>\n",
       "  <tbody>\n",
       "    <tr>\n",
       "      <th>15</th>\n",
       "      <td>6df3f44f-d87a-48e8-8bcf-710aa06b56bf</td>\n",
       "      <td>2022-06-16 12:56:50</td>\n",
       "      <td>dear agar feeding ke bad bhi baby roti hai to ...</td>\n",
       "      <td>positive</td>\n",
       "    </tr>\n",
       "    <tr>\n",
       "      <th>19</th>\n",
       "      <td>1ba40bb4-7329-453d-a535-20c256a24278</td>\n",
       "      <td>2022-06-16 17:52:29</td>\n",
       "      <td>get recognition for your research by showcasin...</td>\n",
       "      <td>positive</td>\n",
       "    </tr>\n",
       "    <tr>\n",
       "      <th>21</th>\n",
       "      <td>6df3f44f-d87a-48e8-8bcf-710aa06b56bf</td>\n",
       "      <td>2022-06-16 18:21:13</td>\n",
       "      <td>#myhappyhealthybaby\\n\\nhey mommies,\\n\\nas i me...</td>\n",
       "      <td>positive</td>\n",
       "    </tr>\n",
       "    <tr>\n",
       "      <th>143</th>\n",
       "      <td>2c806dc3-432f-489f-a00e-dbaa270a8de6</td>\n",
       "      <td>2022-06-17 08:09:33</td>\n",
       "      <td>#myhealthyhappybaby \\nin our place, the child ...</td>\n",
       "      <td>positive</td>\n",
       "    </tr>\n",
       "    <tr>\n",
       "      <th>151</th>\n",
       "      <td>64771ffc-48af-430b-86c1-863022d52d66</td>\n",
       "      <td>2022-06-16 13:03:19</td>\n",
       "      <td>53% of children with autism spectrum disorder ...</td>\n",
       "      <td>negative</td>\n",
       "    </tr>\n",
       "  </tbody>\n",
       "</table>\n",
       "</div>"
      ],
      "text/plain": [
       "                                  groupid        createdatutc  \\\n",
       "15   6df3f44f-d87a-48e8-8bcf-710aa06b56bf 2022-06-16 12:56:50   \n",
       "19   1ba40bb4-7329-453d-a535-20c256a24278 2022-06-16 17:52:29   \n",
       "21   6df3f44f-d87a-48e8-8bcf-710aa06b56bf 2022-06-16 18:21:13   \n",
       "143  2c806dc3-432f-489f-a00e-dbaa270a8de6 2022-06-17 08:09:33   \n",
       "151  64771ffc-48af-430b-86c1-863022d52d66 2022-06-16 13:03:19   \n",
       "\n",
       "                                             textlower     senti  \n",
       "15   dear agar feeding ke bad bhi baby roti hai to ...  positive  \n",
       "19   get recognition for your research by showcasin...  positive  \n",
       "21   #myhappyhealthybaby\\n\\nhey mommies,\\n\\nas i me...  positive  \n",
       "143  #myhealthyhappybaby \\nin our place, the child ...  positive  \n",
       "151  53% of children with autism spectrum disorder ...  negative  "
      ]
     },
     "execution_count": 17,
     "metadata": {},
     "output_type": "execute_result"
    }
   ],
   "source": [
    "mentions.head()"
   ]
  },
  {
   "cell_type": "code",
   "execution_count": 18,
   "metadata": {},
   "outputs": [
    {
     "name": "stdout",
     "output_type": "stream",
     "text": [
      "Brand Mentions: 51 \n",
      "Brand Mentions #: 37 \n",
      "Brand Mentions organic: 14 \n",
      " \n",
      "First timestamp: 2022-06-16 08:26:41 \n",
      "Last timestamp: 2022-06-17 19:21:19 \n",
      "\n",
      "Monthwise Brand Mentions\n",
      "   Keywords  Jun-22\n",
      "0    Count      51\n"
     ]
    }
   ],
   "source": [
    "# mentions\n",
    "csu.printCount('Brand Mentions', mentions_c, mentions_h, mentions_o, f_ts, l_ts, m_monthwise, grpbymentions)"
   ]
  },
  {
   "cell_type": "code",
   "execution_count": 19,
   "metadata": {
    "tags": []
   },
   "outputs": [
    {
     "data": {
      "text/plain": [
       "19"
      ]
     },
     "execution_count": 19,
     "metadata": {},
     "output_type": "execute_result"
    }
   ],
   "source": [
    "# Posts having brand mentions\n",
    "post_ids = set(m[m.type == 'Post'].sourceid)\n",
    "len(post_ids)"
   ]
  },
  {
   "cell_type": "code",
   "execution_count": 20,
   "metadata": {},
   "outputs": [],
   "source": [
    "# brand conversations (posts having brand mentions along with all the comments (may or may not have brand mentions) + separate comments with brand mentions)\n",
    "bc = pd.concat([m, catconv[catconv.parentsourceid.isin(post_ids)]], ignore_index=True).drop_duplicates(subset=['sourceid'])\n",
    "brandconv, bc_c, bc_h, bc_o, ftimestamp, ltimestamp, bc_monthwise, grpbybc = csu.getKPICount(bc, group_wise=False, aho='all')\n",
    "brandconv = brandconv.loc[:,['groupid','createdatutc','textlower']]"
   ]
  },
  {
   "cell_type": "code",
   "execution_count": 21,
   "metadata": {},
   "outputs": [
    {
     "name": "stdout",
     "output_type": "stream",
     "text": [
      "Brand Conversations: 129 \n",
      "Brand Conversations #: 68 \n",
      "Brand Conversations organic: 61 \n",
      " \n",
      "First timestamp: 2022-06-16 08:26:41 \n",
      "Last timestamp: 2022-06-17 19:45:34 \n",
      "\n",
      "Monthwise Brand Conversations\n",
      "   Keywords  Jun-22\n",
      "0    Count     129\n"
     ]
    }
   ],
   "source": [
    "csu.printCount('Brand Conversations', bc_c, bc_h, bc_o, ftimestamp, ltimestamp, bc_monthwise, grpbybc)"
   ]
  },
  {
   "cell_type": "code",
   "execution_count": 28,
   "metadata": {
    "tags": []
   },
   "outputs": [
    {
     "name": "stdout",
     "output_type": "stream",
     "text": [
      "                                                Reference Conversations                                                 \n",
      "────────────────────────────────────────────────────────────────────────────────────────────────────────────────────────\n",
      "#Tata1mg #1mg #1mgforevery1 #BringingCareToHealth #RightDiagnosticForAll\n",
      "This is really very useful and helps to know our health very easily and that by sitting at home\n",
      "────────────────────────────────────────────────────────────────────────────────────────────────────────────────────────\n"
     ]
    }
   ],
   "source": [
    "csu.printReferenceConv(df=mentions, start_index=0, num_conv=1)"
   ]
  },
  {
   "cell_type": "code",
   "execution_count": 44,
   "metadata": {},
   "outputs": [],
   "source": [
    "# download mentions\n",
    "mentions.to_excel(f'mentions {today}.xlsx', index=False)"
   ]
  },
  {
   "cell_type": "code",
   "execution_count": 45,
   "metadata": {},
   "outputs": [
    {
     "data": {
      "text/plain": [
       "(1270, 4)"
      ]
     },
     "execution_count": 45,
     "metadata": {},
     "output_type": "execute_result"
    }
   ],
   "source": [
    "# upload updated mentions\n",
    "mentions = pd.read_excel(f'mentions {today}.xlsx')\n",
    "mentions.shape"
   ]
  },
  {
   "cell_type": "code",
   "execution_count": 28,
   "metadata": {},
   "outputs": [
    {
     "data": {
      "text/html": [
       "<div>\n",
       "<style scoped>\n",
       "    .dataframe tbody tr th:only-of-type {\n",
       "        vertical-align: middle;\n",
       "    }\n",
       "\n",
       "    .dataframe tbody tr th {\n",
       "        vertical-align: top;\n",
       "    }\n",
       "\n",
       "    .dataframe thead th {\n",
       "        text-align: right;\n",
       "    }\n",
       "</style>\n",
       "<table border=\"1\" class=\"dataframe\">\n",
       "  <thead>\n",
       "    <tr style=\"text-align: right;\">\n",
       "      <th></th>\n",
       "      <th>senti</th>\n",
       "      <th>Count</th>\n",
       "    </tr>\n",
       "  </thead>\n",
       "  <tbody>\n",
       "    <tr>\n",
       "      <th>0</th>\n",
       "      <td>positive</td>\n",
       "      <td>38</td>\n",
       "    </tr>\n",
       "    <tr>\n",
       "      <th>1</th>\n",
       "      <td>neutral</td>\n",
       "      <td>3</td>\n",
       "    </tr>\n",
       "    <tr>\n",
       "      <th>2</th>\n",
       "      <td>negative</td>\n",
       "      <td>10</td>\n",
       "    </tr>\n",
       "  </tbody>\n",
       "</table>\n",
       "</div>"
      ],
      "text/plain": [
       "      senti  Count\n",
       "0  positive     38\n",
       "1   neutral      3\n",
       "2  negative     10"
      ]
     },
     "execution_count": 28,
     "metadata": {},
     "output_type": "execute_result"
    }
   ],
   "source": [
    "# sentiments\n",
    "senti = csu.calculateSentiments(mentions, month_wise=False)\n",
    "senti.Count.to_clipboard(index=False)\n",
    "senti"
   ]
  },
  {
   "cell_type": "code",
   "execution_count": 47,
   "metadata": {},
   "outputs": [],
   "source": [
    "# download brand conversations\n",
    "brandconv.to_excel(f'brandconv {today}.xlsx', index=False)"
   ]
  },
  {
   "cell_type": "code",
   "execution_count": 26,
   "metadata": {},
   "outputs": [
    {
     "data": {
      "image/png": "[encoded data removed]",
      "text/plain": [
       "<Figure size 576x432 with 1 Axes>"
      ]
     },
     "metadata": {
      "needs_background": "light"
     },
     "output_type": "display_data"
    }
   ],
   "source": [
    "# wordcloud\n",
    "wc_text = csu.preprocess(' '.join(brandconv.textlower.values))\n",
    "stopwords = set(pd.read_csv('assets/stop-word-list.csv').dropna().iloc[:,0].to_list()) # stop-word-list.csv must be in the same folder as this script OR provide full path to the file\n",
    "wc_image = csu.generateWordCloud(wc_text, stopwords=stopwords) \n",
    "fig = plt.figure(figsize=(8,6))\n",
    "plt.imshow(wc_image, interpolation='bilinear')\n",
    "plt.axis('off')\n",
    "plt.show()"
   ]
  },
  {
   "cell_type": "markdown",
   "metadata": {},
   "source": [
    "### Brand Attributes"
   ]
  },
  {
   "cell_type": "code",
   "execution_count": 32,
   "metadata": {},
   "outputs": [
    {
     "name": "stdout",
     "output_type": "stream",
     "text": [
      "(28, 3)\n"
     ]
    },
    {
     "data": {
      "text/html": [
       "<div>\n",
       "<style scoped>\n",
       "    .dataframe tbody tr th:only-of-type {\n",
       "        vertical-align: middle;\n",
       "    }\n",
       "\n",
       "    .dataframe tbody tr th {\n",
       "        vertical-align: top;\n",
       "    }\n",
       "\n",
       "    .dataframe thead th {\n",
       "        text-align: right;\n",
       "    }\n",
       "</style>\n",
       "<table border=\"1\" class=\"dataframe\">\n",
       "  <thead>\n",
       "    <tr style=\"text-align: right;\">\n",
       "      <th></th>\n",
       "      <th>Keywords</th>\n",
       "      <th>Main_Subset</th>\n",
       "      <th>Transformations</th>\n",
       "    </tr>\n",
       "  </thead>\n",
       "  <tbody>\n",
       "    <tr>\n",
       "      <th>0</th>\n",
       "      <td>buy</td>\n",
       "      <td>Main</td>\n",
       "      <td>buy, bought</td>\n",
       "    </tr>\n",
       "    <tr>\n",
       "      <th>1</th>\n",
       "      <td>try</td>\n",
       "      <td>Main</td>\n",
       "      <td>try, tried</td>\n",
       "    </tr>\n",
       "    <tr>\n",
       "      <th>2</th>\n",
       "      <td>use</td>\n",
       "      <td>Main</td>\n",
       "      <td>_use_,using, used</td>\n",
       "    </tr>\n",
       "  </tbody>\n",
       "</table>\n",
       "</div>"
      ],
      "text/plain": [
       "  Keywords Main_Subset    Transformations\n",
       "0      buy        Main        buy, bought\n",
       "1      try        Main         try, tried\n",
       "2      use        Main  _use_,using, used"
      ]
     },
     "execution_count": 32,
     "metadata": {},
     "output_type": "execute_result"
    }
   ],
   "source": [
    "# read attributes sheet in model file\n",
    "# first row should contain header (columns - Keywords, Main_Subset, Transformations). All attributes must be main\n",
    "# transformations can be given in transformation columns or simply copy paste the keywords column (do fix keywords, e.g. try/tried -> try, tried)\n",
    "attributes = pd.read_excel('model.xlsx', sheet_name='attributes')\n",
    "print(attributes.shape)\n",
    "attributes.head(3)"
   ]
  },
  {
   "cell_type": "code",
   "execution_count": 33,
   "metadata": {},
   "outputs": [
    {
     "name": "stdout",
     "output_type": "stream",
     "text": [
      "exec time: 0.05 seconds\n"
     ]
    }
   ],
   "source": [
    "# attributes dictionary and attributes 1_0 dump\n",
    "att_dict = csu.makeKeywordDict(attributes)\n",
    "tick = time.time()\n",
    "bc_for_attr = csu.makeOneZeroDataFrame(brandconv, att_dict)\n",
    "print(f'exec time: {round(time.time()-tick,2)} seconds')"
   ]
  },
  {
   "cell_type": "code",
   "execution_count": 34,
   "metadata": {},
   "outputs": [
    {
     "data": {
      "text/plain": [
       "buy                             0\n",
       "try                             3\n",
       "use                             7\n",
       "recommend                       7\n",
       "Daily Moisture                  0\n",
       "Soothing Relief                 0\n",
       "Dermexa                         0\n",
       "Wash                            0\n",
       "Lotion                          0\n",
       "Cream                           0\n",
       "Dry skin                        0\n",
       "Rashes                          0\n",
       "Eczema                          0\n",
       "Atopic Dermatitis               0\n",
       "Sensitive skin                  0\n",
       "Very dry skin                   0\n",
       "Redness                         0\n",
       "Chapped Cheeks                  0\n",
       "Skin allergy                    0\n",
       "US No. 1                        0\n",
       "Pediatrician Recommended        0\n",
       "Natural oats                    2\n",
       "hydrating                       0\n",
       "moisturizing                    0\n",
       "Longer hours                    0\n",
       "Friend recommended              0\n",
       "24 Hours                        0\n",
       "Recommended by dermatologist    0\n",
       "dtype: int64"
      ]
     },
     "execution_count": 34,
     "metadata": {},
     "output_type": "execute_result"
    }
   ],
   "source": [
    "# print brand attributes count\n",
    "brandattr = np.sum(bc_for_attr[attributes.Keywords.tolist()], axis=0)\n",
    "brandattr.to_clipboard(header=False)\n",
    "brandattr"
   ]
  }
 ],
 "metadata": {
  "accelerator": "TPU",
  "colab": {
   "collapsed_sections": [],
   "name": "Category Conv and SoV.ipynb",
   "provenance": [
    {
     "file_id": "141WdgjSIRw-cR6IxDkjVPhoQom-C6QlF",
     "timestamp": 1642506214811
    },
    {
     "file_id": "1G2BoobnE65Sdo2LprfFqXvjOlg41IyjP",
     "timestamp": 1637059792283
    }
   ]
  },
  "kernelspec": {
   "display_name": "Python 3.9.6 ('env': venv)",
   "language": "python",
   "name": "python3"
  },
  "language_info": {
   "codemirror_mode": {
    "name": "ipython",
    "version": 3
   },
   "file_extension": ".py",
   "mimetype": "text/x-python",
   "name": "python",
   "nbconvert_exporter": "python",
   "pygments_lexer": "ipython3",
   "version": "3.9.6"
  },
  "vscode": {
   "interpreter": {
    "hash": "3c007feda8b9d437c10d64075eaa99744c46504e2c9335b04b34aadf0f2561ea"
   }
  }
 },
 "nbformat": 4,
 "nbformat_minor": 4
}
